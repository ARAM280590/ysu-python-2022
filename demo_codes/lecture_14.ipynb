{
 "cells": [
  {
   "cell_type": "markdown",
   "metadata": {},
   "source": [
    "# Functional programming in Python"
   ]
  },
  {
   "cell_type": "markdown",
   "metadata": {},
   "source": [
    "**Documentation**: https://docs.python.org/3.5/howto/functional.html \\\n",
    "libraries - https://docs.python.org/3/library/functional.html"
   ]
  },
  {
   "cell_type": "markdown",
   "metadata": {},
   "source": [
    "## What Is Functional Programming?\n",
    "- **Functions are first class (objects)**. That is, everything you can do\n",
    "with “data” can be done with functions themselves (such as\n",
    "passing a function to another function).\n",
    "- **Recursion is used as a primary control structure.** In some languages,\n",
    "no other “loop” construct exists considering **immutable objects**.\n",
    "- There is **a focus on list processing*** (for example, it is the source\n",
    "of the name Lisp). Lists are often used with recursion on sublists\n",
    "as a substitute for loops.\n",
    "- “Pure” functional languages eschew **side effects.** This excludes\n",
    "the almost ubiquitous pattern in imperative languages of assigning\n",
    "first one, then another value to the same variable to track\n",
    "the program state.\n",
    "- Functional programming worries about **what** is to be computed\n",
    "rather than **how** it is to be computed.\n",
    "- Much functional programming utilizes **“higher order”** functions\n",
    "(in other words, functions that operate on functions)."
   ]
  },
  {
   "cell_type": "markdown",
   "metadata": {},
   "source": [
    "*Python* is most definitely **not a “pure functional programming language”**;\n",
    "side effects are widespread in most Python programs. That\n",
    "is, variables are frequently rebound, mutable data collections often\n",
    "change contents, and I/O is freely interleaved with computation. It is\n",
    "also **not even a “functional programming language” more generally**.\n",
    "However, Python is a **multiparadigm language** that makes functional\n",
    "programming easy to do when desired, and easy to **mix with other\n",
    "programming styles**."
   ]
  },
  {
   "cell_type": "markdown",
   "metadata": {},
   "source": [
    "Recap: what have we already covered?\n",
    "- iterables, iterators, generators\n",
    "- lazy evaluation\n",
    "- memory management\n",
    "- recursion"
   ]
  },
  {
   "cell_type": "markdown",
   "metadata": {},
   "source": [
    "Task: compute the sum of the squares of positive integers up to 100"
   ]
  },
  {
   "cell_type": "code",
   "execution_count": 5,
   "metadata": {
    "ExecuteTime": {
     "end_time": "2022-12-10T11:02:00.002544Z",
     "start_time": "2022-12-10T11:01:59.982843Z"
    }
   },
   "outputs": [
    {
     "name": "stdout",
     "output_type": "stream",
     "text": [
      "5\n",
      "4\n",
      "3\n",
      "2\n",
      "1\n"
     ]
    },
    {
     "data": {
      "text/plain": [
       "120"
      ]
     },
     "execution_count": 5,
     "metadata": {},
     "output_type": "execute_result"
    }
   ],
   "source": [
    "def factorial(n):\n",
    "    if n==1:\n",
    "        print(n)\n",
    "        return 1\n",
    "    else:\n",
    "        print(n)\n",
    "        return n*factorial(n-1)\n",
    "        \n",
    "factorial(5)\n",
    "    "
   ]
  },
  {
   "cell_type": "code",
   "execution_count": 14,
   "metadata": {
    "ExecuteTime": {
     "end_time": "2022-12-10T11:08:08.757824Z",
     "start_time": "2022-12-10T11:08:08.750235Z"
    }
   },
   "outputs": [
    {
     "name": "stdout",
     "output_type": "stream",
     "text": [
      "6\n",
      "5\n",
      "4\n",
      "3\n",
      "2\n",
      "1\n",
      "2\n",
      "3\n",
      "2\n",
      "1\n",
      "4\n",
      "3\n",
      "2\n",
      "1\n",
      "2\n",
      "5\n"
     ]
    }
   ],
   "source": [
    "def fibonacci(n):\n",
    "    if n==1:\n",
    "        print(n)\n",
    "        return 0\n",
    "    elif n==2:\n",
    "        print(n)\n",
    "        return 1\n",
    "    else:\n",
    "        print(n)\n",
    "        return(fibonacci(n-1) + fibonacci(n-2))\n",
    "    \n",
    "print(fibonacci(6))\n"
   ]
  },
  {
   "cell_type": "markdown",
   "metadata": {},
   "source": [
    "### task 1: solution"
   ]
  },
  {
   "cell_type": "code",
   "execution_count": 1,
   "metadata": {
    "ExecuteTime": {
     "end_time": "2020-11-21T08:03:29.125012Z",
     "start_time": "2020-11-21T08:03:29.109002Z"
    }
   },
   "outputs": [
    {
     "name": "stdout",
     "output_type": "stream",
     "text": [
      "338350\n",
      "338350\n"
     ]
    }
   ],
   "source": [
    "# eagerly\n",
    "eager_sum = sum([i**2 for i in range(1,101)])\n",
    "print(eager_sum)\n",
    "\n",
    "#lazily\n",
    "lazy_sum = sum((i**2 for i in range(1,101)))\n",
    "print(lazy_sum)\n"
   ]
  },
  {
   "cell_type": "markdown",
   "metadata": {},
   "source": [
    "## Mutable vs Immutable\n",
    "Let's discuss example of summation function \n",
    "https://hg.python.org/cpython/file/57c157be847f/Python/bltinmodule.c"
   ]
  },
  {
   "cell_type": "code",
   "execution_count": null,
   "metadata": {},
   "outputs": [],
   "source": [
    "# mutable\n",
    "def sum_lst(lst):\n",
    "    total = 0\n",
    "    for number in lst:\n",
    "        total += number\n",
    "    return total"
   ]
  },
  {
   "cell_type": "code",
   "execution_count": 15,
   "metadata": {
    "ExecuteTime": {
     "end_time": "2022-12-10T11:13:04.773083Z",
     "start_time": "2022-12-10T11:13:04.763116Z"
    }
   },
   "outputs": [
    {
     "data": {
      "text/plain": [
       "0"
      ]
     },
     "execution_count": 15,
     "metadata": {},
     "output_type": "execute_result"
    }
   ],
   "source": [
    "def sum_lst(lst):\n",
    "    if not lst:\n",
    "        return 0\n",
    "    else:\n",
    "        return lst[0] + sum_lst(lst[1:])\n",
    "    "
   ]
  },
  {
   "cell_type": "code",
   "execution_count": 18,
   "metadata": {
    "ExecuteTime": {
     "end_time": "2022-12-10T11:21:46.924059Z",
     "start_time": "2022-12-10T11:21:46.911641Z"
    },
    "scrolled": true
   },
   "outputs": [
    {
     "name": "stdout",
     "output_type": "stream",
     "text": [
      "1\n"
     ]
    }
   ],
   "source": [
    "# exec vs eval\n",
    "a = 0\n",
    "exec(\"a+=1\")\n",
    "print(a)"
   ]
  },
  {
   "cell_type": "markdown",
   "metadata": {},
   "source": [
    "### reduce"
   ]
  },
  {
   "cell_type": "code",
   "execution_count": 52,
   "metadata": {
    "ExecuteTime": {
     "end_time": "2022-12-10T11:45:30.055123Z",
     "start_time": "2022-12-10T11:45:30.043580Z"
    }
   },
   "outputs": [],
   "source": [
    "l = [1,2,3,4]\n",
    "\n",
    "from operator import add\n",
    "from functools import reduce"
   ]
  },
  {
   "cell_type": "code",
   "execution_count": null,
   "metadata": {},
   "outputs": [],
   "source": [
    "reduce()"
   ]
  },
  {
   "cell_type": "code",
   "execution_count": null,
   "metadata": {
    "ExecuteTime": {
     "end_time": "2020-11-14T05:27:54.604628Z",
     "start_time": "2020-11-14T05:27:54.589008Z"
    }
   },
   "outputs": [],
   "source": [
    "reduce(add, l)"
   ]
  },
  {
   "cell_type": "code",
   "execution_count": 51,
   "metadata": {
    "ExecuteTime": {
     "end_time": "2020-11-14T06:30:35.486947Z",
     "start_time": "2020-11-14T06:30:35.471322Z"
    }
   },
   "outputs": [
    {
     "data": {
      "text/plain": [
       "10"
      ]
     },
     "execution_count": 51,
     "metadata": {},
     "output_type": "execute_result"
    }
   ],
   "source": [
    "################################################################################\n",
    "### reduce() sequence to a single item\n",
    "################################################################################\n",
    "\n",
    "_initial_missing = object()\n",
    "\n",
    "def red(function, sequence, initial=_initial_missing):\n",
    "    \"\"\"\n",
    "    reduce(function, sequence[, initial]) -> value\n",
    "\n",
    "    Apply a function of two arguments cumulatively to the items of a sequence,\n",
    "    from left to right, so as to reduce the sequence to a single value.\n",
    "    For example, reduce(lambda x, y: x+y, [1, 2, 3, 4, 5]) calculates\n",
    "    ((((1+2)+3)+4)+5).  If initial is present, it is placed before the items\n",
    "    of the sequence in the calculation, and serves as a default when the\n",
    "    sequence is empty.\n",
    "    \"\"\"\n",
    "    it = iter(sequence)\n",
    "\n",
    "    if initial is _initial_missing:\n",
    "        try:\n",
    "            value = next(it)\n",
    "        except StopIteration:\n",
    "            raise TypeError(\"reduce() of empty sequence with no initial value\") from None\n",
    "    else:\n",
    "        value = initial\n",
    "\n",
    "    for element in it:\n",
    "        value = function(value, element)\n",
    "\n",
    "    return value\n",
    "\n",
    "try:\n",
    "    from _functools import reduce\n",
    "except ImportError:\n",
    "    pass\n",
    "\n",
    "\n",
    "red(add, l)\n",
    "\n",
    "################################################################################"
   ]
  },
  {
   "cell_type": "markdown",
   "metadata": {},
   "source": [
    "## First-class functions, Higher order functions and Lambda"
   ]
  },
  {
   "cell_type": "markdown",
   "metadata": {},
   "source": [
    "A programming language is said to have **first-class functions** when it supports passing functions as parameters, returning them or assigning them to variables."
   ]
  },
  {
   "cell_type": "code",
   "execution_count": 22,
   "metadata": {
    "ExecuteTime": {
     "end_time": "2022-12-10T11:24:43.992827Z",
     "start_time": "2022-12-10T11:24:43.984048Z"
    }
   },
   "outputs": [
    {
     "name": "stdout",
     "output_type": "stream",
     "text": [
      "20.0\n",
      "10\n"
     ]
    }
   ],
   "source": [
    "def convert_to(to_what, number):\n",
    "    return to_what(number)\n",
    " \n",
    "print(convert_to(float, 20)) # convert 20 to float\n",
    "print(convert_to(str, 10)) # convert 10 to str"
   ]
  },
  {
   "cell_type": "markdown",
   "metadata": {},
   "source": [
    "### map"
   ]
  },
  {
   "cell_type": "code",
   "execution_count": 23,
   "metadata": {
    "ExecuteTime": {
     "end_time": "2022-12-10T11:26:05.830203Z",
     "start_time": "2022-12-10T11:26:05.816224Z"
    }
   },
   "outputs": [],
   "source": [
    "# task: transfor to a list of string numbers in 3 digit format 10 -> 010\n",
    "ls = [0,10,100,33, 4, 11]"
   ]
  },
  {
   "cell_type": "code",
   "execution_count": 31,
   "metadata": {
    "ExecuteTime": {
     "end_time": "2022-12-10T11:32:34.651053Z",
     "start_time": "2022-12-10T11:32:34.644057Z"
    }
   },
   "outputs": [],
   "source": [
    "ls_map = map(lambda x: x**2, ls)"
   ]
  },
  {
   "cell_type": "code",
   "execution_count": 38,
   "metadata": {
    "ExecuteTime": {
     "end_time": "2022-12-10T11:33:03.275609Z",
     "start_time": "2022-12-10T11:33:03.258663Z"
    }
   },
   "outputs": [
    {
     "ename": "StopIteration",
     "evalue": "",
     "output_type": "error",
     "traceback": [
      "\u001B[1;31m---------------------------------------------------------------------------\u001B[0m",
      "\u001B[1;31mStopIteration\u001B[0m                             Traceback (most recent call last)",
      "\u001B[1;32mC:\\Users\\GGHALA~1\\AppData\\Local\\Temp/ipykernel_21888/3795856117.py\u001B[0m in \u001B[0;36m<module>\u001B[1;34m\u001B[0m\n\u001B[1;32m----> 1\u001B[1;33m \u001B[0mls_map\u001B[0m\u001B[1;33m.\u001B[0m\u001B[0m__next__\u001B[0m\u001B[1;33m(\u001B[0m\u001B[1;33m)\u001B[0m\u001B[1;33m\u001B[0m\u001B[1;33m\u001B[0m\u001B[0m\n\u001B[0m",
      "\u001B[1;31mStopIteration\u001B[0m: "
     ]
    }
   ],
   "source": [
    "ls_map.__next__()"
   ]
  },
  {
   "cell_type": "code",
   "execution_count": 49,
   "metadata": {
    "ExecuteTime": {
     "end_time": "2022-12-10T11:38:31.697940Z",
     "start_time": "2022-12-10T11:38:31.679895Z"
    }
   },
   "outputs": [],
   "source": [
    "def sqr_gen(ls: list):\n",
    "    for elem in ls:\n",
    "        yield elem**2\n",
    "\n",
    "sqr_gen_ex = sqr_gen(ls)"
   ]
  },
  {
   "cell_type": "code",
   "execution_count": 50,
   "metadata": {
    "ExecuteTime": {
     "end_time": "2022-12-10T11:38:35.202392Z",
     "start_time": "2022-12-10T11:38:35.186717Z"
    }
   },
   "outputs": [
    {
     "data": {
      "text/plain": [
       "<generator object sqr_gen at 0x0000019C36DC1190>"
      ]
     },
     "execution_count": 50,
     "metadata": {},
     "output_type": "execute_result"
    }
   ],
   "source": [
    "sqr_gen_ex"
   ]
  },
  {
   "cell_type": "code",
   "execution_count": 46,
   "metadata": {
    "ExecuteTime": {
     "end_time": "2022-12-10T11:37:02.104153Z",
     "start_time": "2022-12-10T11:37:02.081291Z"
    }
   },
   "outputs": [
    {
     "data": {
      "text/plain": [
       "121"
      ]
     },
     "execution_count": 46,
     "metadata": {},
     "output_type": "execute_result"
    }
   ],
   "source": [
    "sqr_gen_ex.__next__()"
   ]
  },
  {
   "cell_type": "code",
   "execution_count": 47,
   "metadata": {
    "ExecuteTime": {
     "end_time": "2022-12-10T11:37:49.946926Z",
     "start_time": "2022-12-10T11:37:49.934160Z"
    }
   },
   "outputs": [
    {
     "data": {
      "text/plain": [
       "[0, 100, 10000, 1089, 16, 121]"
      ]
     },
     "execution_count": 47,
     "metadata": {},
     "output_type": "execute_result"
    }
   ],
   "source": [
    "[elem**2 for elem in ls] # list comprehension "
   ]
  },
  {
   "cell_type": "code",
   "execution_count": 48,
   "metadata": {
    "ExecuteTime": {
     "end_time": "2022-12-10T11:38:25.454684Z",
     "start_time": "2022-12-10T11:38:25.434976Z"
    }
   },
   "outputs": [
    {
     "data": {
      "text/plain": [
       "<generator object <genexpr> at 0x0000019C37408F20>"
      ]
     },
     "execution_count": 48,
     "metadata": {},
     "output_type": "execute_result"
    }
   ],
   "source": [
    "(elem**2 for elem in ls) # generator comprehension "
   ]
  },
  {
   "cell_type": "code",
   "execution_count": 51,
   "metadata": {
    "ExecuteTime": {
     "end_time": "2022-12-10T11:39:23.104542Z",
     "start_time": "2022-12-10T11:39:23.096083Z"
    }
   },
   "outputs": [
    {
     "data": {
      "text/plain": [
       "[0, 100, 10000, 1089, 16, 121]"
      ]
     },
     "execution_count": 51,
     "metadata": {},
     "output_type": "execute_result"
    }
   ],
   "source": [
    "ls_map = list(map(lambda x: x**2, ls))\n",
    "ls_map"
   ]
  },
  {
   "cell_type": "markdown",
   "metadata": {},
   "source": [
    "#### task 2: solution"
   ]
  },
  {
   "cell_type": "code",
   "execution_count": 12,
   "metadata": {
    "ExecuteTime": {
     "end_time": "2020-11-21T08:40:01.131856Z",
     "start_time": "2020-11-21T08:40:01.123907Z"
    }
   },
   "outputs": [],
   "source": [
    "def transform(elem, format_length = 3):\n",
    "    if isinstance(elem, (int, float)):\n",
    "        str_elem = str(elem)\n",
    "        if len(str_elem) <= format_length:\n",
    "            return (format_length - len(str_elem))*\"0\"+str_elem\n",
    "        else:\n",
    "            raise ValueError(f\"Number parameter longer that format_length: {format_length}\")\n",
    "    else:\n",
    "        raise TypeError(\"Non-numerical parameter\")"
   ]
  },
  {
   "cell_type": "code",
   "execution_count": 14,
   "metadata": {
    "ExecuteTime": {
     "end_time": "2020-11-21T08:40:19.484467Z",
     "start_time": "2020-11-21T08:40:19.478485Z"
    }
   },
   "outputs": [
    {
     "name": "stdout",
     "output_type": "stream",
     "text": [
      "<map object at 0x000002A895E76FC8>\n",
      "['__class__', '__delattr__', '__dir__', '__doc__', '__eq__', '__format__', '__ge__', '__getattribute__', '__gt__', '__hash__', '__init__', '__init_subclass__', '__iter__', '__le__', '__lt__', '__ne__', '__new__', '__next__', '__reduce__', '__reduce_ex__', '__repr__', '__setattr__', '__sizeof__', '__str__', '__subclasshook__']\n",
      "['000', '010', '100', '033', '004', '011']\n"
     ]
    }
   ],
   "source": [
    "a = map(transform, ls)\n",
    "print(a)\n",
    "print(dir(a))\n",
    "print(list(a))"
   ]
  },
  {
   "cell_type": "markdown",
   "metadata": {},
   "source": [
    "## Other exampls: list comprehensions, filter"
   ]
  },
  {
   "cell_type": "code",
   "execution_count": 53,
   "metadata": {
    "ExecuteTime": {
     "end_time": "2020-11-14T06:31:46.571265Z",
     "start_time": "2020-11-14T06:31:46.540739Z"
    }
   },
   "outputs": [
    {
     "data": {
      "text/plain": [
       "[0, 9, 18, 27, 36, 45, 54, 63, 72, 81, 90, 99]"
      ]
     },
     "execution_count": 53,
     "metadata": {},
     "output_type": "execute_result"
    }
   ],
   "source": [
    "[i for i in range(100) if i%9==0]"
   ]
  },
  {
   "cell_type": "markdown",
   "metadata": {},
   "source": [
    "## Functional programming modules\n",
    "Builtin libraries\n",
    "- operators https://docs.python.org/3/library/operator.html\n",
    "- functools https://docs.python.org/3/library/functools.html\n",
    "- iterators https://docs.python.org/3/library/itertools.html"
   ]
  },
  {
   "cell_type": "markdown",
   "metadata": {},
   "source": [
    "### Operators\n",
    "- elementary\n",
    "- in-place\n",
    "- getter"
   ]
  },
  {
   "cell_type": "markdown",
   "metadata": {},
   "source": [
    "### Itertools\n",
    "Creates iterators"
   ]
  },
  {
   "cell_type": "code",
   "execution_count": 2,
   "metadata": {
    "ExecuteTime": {
     "end_time": "2020-11-21T06:38:51.793874Z",
     "start_time": "2020-11-21T06:38:51.787294Z"
    }
   },
   "outputs": [
    {
     "name": "stdout",
     "output_type": "stream",
     "text": [
      "groupby(iterable, key=None) -> make an iterator that returns consecutive\n",
      "keys and groups from the iterable.  If the key function is not specified or\n",
      "is None, the element itself is used for grouping.\n",
      "\n"
     ]
    }
   ],
   "source": [
    "from itertools import groupby\n",
    "print(groupby.__doc__)"
   ]
  },
  {
   "cell_type": "code",
   "execution_count": 12,
   "metadata": {
    "ExecuteTime": {
     "end_time": "2020-11-21T06:46:37.035111Z",
     "start_time": "2020-11-21T06:46:37.019438Z"
    }
   },
   "outputs": [
    {
     "name": "stdout",
     "output_type": "stream",
     "text": [
      "a: [('a', 1), ('a', 2)]\n",
      "b: [('b', 3), ('b', 4)]\n"
     ]
    }
   ],
   "source": [
    "l = [(\"a\", 1), (\"a\", 2), (\"b\", 3), (\"b\", 4)]\n",
    "key_f = lambda x: x[0]\n",
    "\n",
    "for key, group in groupby(l, key_f):\n",
    "    print(key + \": \" + str(list(group)))"
   ]
  },
  {
   "cell_type": "markdown",
   "metadata": {
    "heading_collapsed": true
   },
   "source": [
    "### Functools\n",
    "Higher order functions"
   ]
  },
  {
   "cell_type": "markdown",
   "metadata": {},
   "source": [
    "## Decorators\n",
    "Decorators are very powerful and useful tool in Python since it allows programmers to modify the behavior of function or class. Decorators allow us to **wrap another function** in order to extend the behavior of wrapped function, without permanently modifying it.\\\n",
    "\n",
    "In Decorators, **functions are taken as the argument** into another function and then called **inside the wrapper function**."
   ]
  },
  {
   "cell_type": "markdown",
   "metadata": {
    "ExecuteTime": {
     "end_time": "2020-11-21T06:55:59.139863Z",
     "start_time": "2020-11-21T06:55:59.108578Z"
    }
   },
   "source": [
    "```python\n",
    "@gfg_decorator\n",
    "def hello_decorator(): \n",
    "    print(\"Gfg\") \n",
    "  \n",
    "'''Above code is equivalent to - \n",
    "  \n",
    "def hello_decorator(): \n",
    "    print(\"Gfg\") \n",
    "      \n",
    "hello_decorator = gfg_decorator(hello_decorator)'''\n",
    "```"
   ]
  },
  {
   "cell_type": "code",
   "execution_count": 5,
   "metadata": {
    "ExecuteTime": {
     "end_time": "2021-12-18T04:41:59.385988Z",
     "start_time": "2021-12-18T04:41:57.351556Z"
    }
   },
   "outputs": [
    {
     "name": "stdout",
     "output_type": "stream",
     "text": [
      "3628800\n",
      "Function name: factorial\n",
      "Execution time: 2.01 seconds\n"
     ]
    }
   ],
   "source": [
    "# importing libraries \n",
    "import time \n",
    "import math \n",
    "  \n",
    "# decorator to calculate duration \n",
    "# taken by any function. \n",
    "def calculate_time(func): \n",
    "      \n",
    "    # added arguments inside the inner1, \n",
    "    # if function takes any arguments, \n",
    "    # can be added like this. \n",
    "    def inner1(*args, **kwargs): \n",
    "  \n",
    "        # storing time before function execution \n",
    "        begin = time.time() \n",
    "          \n",
    "        func(*args, **kwargs) \n",
    "  \n",
    "        # storing time after function execution \n",
    "        end = time.time() \n",
    "        print(f\"Function name: {func.__name__}\\nExecution time: {round(end-begin,2)} seconds\") \n",
    "  \n",
    "    return inner1 \n",
    "  \n",
    "  \n",
    "  \n",
    "# this can be added to any function present, \n",
    "# in this case to calculate a factorial \n",
    "@calculate_time\n",
    "def factorial(num):\n",
    "    # sleep 2 seconds because it takes very less time \n",
    "    # so that you can see the actual difference \n",
    "    time.sleep(2) \n",
    "    print(math.factorial(num))\n",
    "    \n",
    "# calling the function\n",
    "factorial(10)\n"
   ]
  },
  {
   "cell_type": "markdown",
   "metadata": {
    "heading_collapsed": true
   },
   "source": [
    "## Recursion\n",
    "Stack, Tail, LRU"
   ]
  },
  {
   "cell_type": "code",
   "execution_count": null,
   "metadata": {
    "hidden": true
   },
   "outputs": [],
   "source": []
  }
 ],
 "metadata": {
  "kernelspec": {
   "display_name": "Python 3 (ipykernel)",
   "language": "python",
   "name": "python3"
  },
  "language_info": {
   "codemirror_mode": {
    "name": "ipython",
    "version": 3
   },
   "file_extension": ".py",
   "mimetype": "text/x-python",
   "name": "python",
   "nbconvert_exporter": "python",
   "pygments_lexer": "ipython3",
   "version": "3.8.5"
  },
  "toc": {
   "base_numbering": 1,
   "nav_menu": {},
   "number_sections": true,
   "sideBar": true,
   "skip_h1_title": false,
   "title_cell": "Table of Contents",
   "title_sidebar": "Contents",
   "toc_cell": false,
   "toc_position": {
    "height": "calc(100% - 180px)",
    "left": "10px",
    "top": "150px",
    "width": "269.433px"
   },
   "toc_section_display": true,
   "toc_window_display": true
  }
 },
 "nbformat": 4,
 "nbformat_minor": 4
}